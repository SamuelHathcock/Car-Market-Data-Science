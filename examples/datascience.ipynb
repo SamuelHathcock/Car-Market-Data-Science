{
 "cells": [
  {
   "cell_type": "code",
   "execution_count": null,
   "source": [
    "import numpy as np\n",
    "import matplotlib.pyplot as plt\n",
    "import sqlite3 as sql"
   ],
   "outputs": [],
   "metadata": {}
  },
  {
   "cell_type": "markdown",
   "source": [
    "# Make Popularity (craigslist Phoenix)"
   ],
   "metadata": {}
  },
  {
   "cell_type": "code",
   "execution_count": null,
   "source": [
    "import pandas as pd\n",
    "from pandas import Series, DataFrame\n",
    "\n",
    "conn = sql.connect('/home/cha/Repositories/BestDealsFinder/test.db')\n",
    "cursor = conn.cursor()\n",
    "\n",
    "all_data = pd.read_sql_query(\"SELECT * from cars\", conn)\n",
    "all_data = all_data.fillna(value='?')"
   ],
   "outputs": [],
   "metadata": {}
  },
  {
   "cell_type": "markdown",
   "source": [
    "Making a dictionary, with the key being the make and value the occurences."
   ],
   "metadata": {}
  },
  {
   "cell_type": "code",
   "execution_count": null,
   "source": [
    "from collections import Counter\n",
    "def get_make_count(data: DataFrame):\n",
    "    try:\n",
    "        dicc = Counter(data.make)\n",
    "    except:\n",
    "        return {}\n",
    "    return dicc\n",
    "\n",
    "print(get_make_count(all_data))"
   ],
   "outputs": [],
   "metadata": {}
  },
  {
   "cell_type": "code",
   "execution_count": null,
   "source": [
    "make_count = get_make_count(all_data)\n",
    "\n",
    "plt.figure(figsize=(35, 8))\n",
    "plt.rcParams.update({'font.size': 14})\n",
    "plt.title(\"Occurences of Manufacurer on Craiglist\")\n",
    "plt.xlabel(\"Make\")\n",
    "plt.ylabel(\"Number of Occurrences\")\n",
    "bar = plt.bar(make_count.keys(), make_count.values())\n",
    "\n"
   ],
   "outputs": [],
   "metadata": {}
  },
  {
   "cell_type": "markdown",
   "source": [
    "# Average Price by Make "
   ],
   "metadata": {}
  },
  {
   "cell_type": "code",
   "execution_count": null,
   "source": [
    "from importlib import reload\n",
    "plt=reload(plt)\n",
    "\n",
    "total_price = {}\n",
    "for row in all_data.iloc:\n",
    "    curr_price = int(row['price'].replace('$', '').replace(',', ''))\n",
    "    if row['make'] not in total_price:\n",
    "        total_price[row['make']] = curr_price\n",
    "    else:\n",
    "        total_price[row['make']] += curr_price\n",
    "\n",
    "avg_price = {}\n",
    "for (k,v), (k2,v2) in zip(total_price.items(), make_count.items()):\n",
    "    avg_price[k] = round(v / v2, 2)\n",
    "\n",
    "print(avg_price)\n",
    "\n",
    "plt.figure(figsize=(35, 8))\n",
    "plt.rcParams.update({'font.size': 14})\n",
    "plt.title('Average Price by Make')\n",
    "plt.xlabel('Manufacturer')\n",
    "plt.ylabel('Average Price ($)')\n",
    "\n",
    "plt.bar(avg_price.keys(), avg_price.values())"
   ],
   "outputs": [],
   "metadata": {}
  },
  {
   "cell_type": "code",
   "execution_count": null,
   "source": [],
   "outputs": [],
   "metadata": {}
  }
 ],
 "metadata": {
  "orig_nbformat": 4,
  "language_info": {
   "name": "python",
   "version": "3.8.5",
   "mimetype": "text/x-python",
   "codemirror_mode": {
    "name": "ipython",
    "version": 3
   },
   "pygments_lexer": "ipython3",
   "nbconvert_exporter": "python",
   "file_extension": ".py"
  },
  "kernelspec": {
   "name": "python3",
   "display_name": "Python 3.8.5 64-bit ('env': venv)"
  },
  "interpreter": {
   "hash": "d3dfd3d499dfbcf3f1be831db7a60cdde175d62bcd10bf05e06f5b8422a22e2d"
  }
 },
 "nbformat": 4,
 "nbformat_minor": 2
}