{
 "cells": [
  {
   "cell_type": "code",
   "execution_count": 2,
   "source": [
    "import numpy as np\n",
    "import matplotlib.pyplot as plt\n",
    "import sqlite3 as sql"
   ],
   "outputs": [],
   "metadata": {}
  },
  {
   "cell_type": "markdown",
   "source": [
    "# Make Popularity (craigslist Phoenix)"
   ],
   "metadata": {}
  },
  {
   "cell_type": "code",
   "execution_count": null,
   "source": [],
   "outputs": [],
   "metadata": {}
  },
  {
   "cell_type": "code",
   "execution_count": 3,
   "source": [
    "import pandas as pd\n",
    "from pandas import Series, DataFrame\n",
    "\n",
    "conn = sql.connect('/home/cha/Repositories/BestDealsFinder/test.db')\n",
    "cursor = conn.cursor()\n",
    "\n",
    "all_data = pd.read_sql_query(\"SELECT * from cars\", conn)\n"
   ],
   "outputs": [],
   "metadata": {}
  },
  {
   "cell_type": "code",
   "execution_count": 4,
   "source": [
    "all_data"
   ],
   "outputs": [
    {
     "output_type": "execute_result",
     "data": {
      "text/plain": [
       "                                                 title  year           make  \\\n",
       "0    1999 Ford E350 converted Grooming shuttle bus ...  1999           ford   \n",
       "1    2008 Jeep Rubicon Unlimited and Matching Off R...  2008           jeep   \n",
       "2                       1999 Lexus ES300 Coach Edition  1999          lexus   \n",
       "3                       2017 Dodge Challenger SXT Plus  2017          dodge   \n",
       "4                                Ford F150 Lariat 2019  2019           ford   \n",
       "..                                                 ...   ...            ...   \n",
       "111                   2014 Nissan Titan only 77k miles  2014         nissan   \n",
       "112                           1999 Chevy Tahoe 4DR 4WD  1999      chevrolet   \n",
       "113                                  2019 Colorado ZR2  2019      chevrolet   \n",
       "114                  Mercedes-Benz 2021 E450 Cabriolet  2021  mercedes-benz   \n",
       "115                     2013 Range Rover Sport HSE Lux  2013              ?   \n",
       "\n",
       "          model odometer paintcolor titlestatus    price  \n",
       "0          e350   167000      white       clean  $13,500  \n",
       "1      wrangler   180000     yellow       clean  $32,500  \n",
       "2         es300   147000          ?       clean   $5,450  \n",
       "3    challenger    66000       blue       clean  $23,950  \n",
       "4         f-150    10150     silver       clean  $49,500  \n",
       "..          ...      ...        ...         ...      ...  \n",
       "111       titan    77000          ?       clean  $23,500  \n",
       "112       tahoe   171500          ?       clean   $5,900  \n",
       "113    colorado    30000       grey       clean  $41,000  \n",
       "114        e450     7499     silver       clean  $79,499  \n",
       "115       rover   115543      white       clean  $17,950  \n",
       "\n",
       "[116 rows x 8 columns]"
      ],
      "text/html": [
       "<div>\n",
       "<style scoped>\n",
       "    .dataframe tbody tr th:only-of-type {\n",
       "        vertical-align: middle;\n",
       "    }\n",
       "\n",
       "    .dataframe tbody tr th {\n",
       "        vertical-align: top;\n",
       "    }\n",
       "\n",
       "    .dataframe thead th {\n",
       "        text-align: right;\n",
       "    }\n",
       "</style>\n",
       "<table border=\"1\" class=\"dataframe\">\n",
       "  <thead>\n",
       "    <tr style=\"text-align: right;\">\n",
       "      <th></th>\n",
       "      <th>title</th>\n",
       "      <th>year</th>\n",
       "      <th>make</th>\n",
       "      <th>model</th>\n",
       "      <th>odometer</th>\n",
       "      <th>paintcolor</th>\n",
       "      <th>titlestatus</th>\n",
       "      <th>price</th>\n",
       "    </tr>\n",
       "  </thead>\n",
       "  <tbody>\n",
       "    <tr>\n",
       "      <th>0</th>\n",
       "      <td>1999 Ford E350 converted Grooming shuttle bus ...</td>\n",
       "      <td>1999</td>\n",
       "      <td>ford</td>\n",
       "      <td>e350</td>\n",
       "      <td>167000</td>\n",
       "      <td>white</td>\n",
       "      <td>clean</td>\n",
       "      <td>$13,500</td>\n",
       "    </tr>\n",
       "    <tr>\n",
       "      <th>1</th>\n",
       "      <td>2008 Jeep Rubicon Unlimited and Matching Off R...</td>\n",
       "      <td>2008</td>\n",
       "      <td>jeep</td>\n",
       "      <td>wrangler</td>\n",
       "      <td>180000</td>\n",
       "      <td>yellow</td>\n",
       "      <td>clean</td>\n",
       "      <td>$32,500</td>\n",
       "    </tr>\n",
       "    <tr>\n",
       "      <th>2</th>\n",
       "      <td>1999 Lexus ES300 Coach Edition</td>\n",
       "      <td>1999</td>\n",
       "      <td>lexus</td>\n",
       "      <td>es300</td>\n",
       "      <td>147000</td>\n",
       "      <td>?</td>\n",
       "      <td>clean</td>\n",
       "      <td>$5,450</td>\n",
       "    </tr>\n",
       "    <tr>\n",
       "      <th>3</th>\n",
       "      <td>2017 Dodge Challenger SXT Plus</td>\n",
       "      <td>2017</td>\n",
       "      <td>dodge</td>\n",
       "      <td>challenger</td>\n",
       "      <td>66000</td>\n",
       "      <td>blue</td>\n",
       "      <td>clean</td>\n",
       "      <td>$23,950</td>\n",
       "    </tr>\n",
       "    <tr>\n",
       "      <th>4</th>\n",
       "      <td>Ford F150 Lariat 2019</td>\n",
       "      <td>2019</td>\n",
       "      <td>ford</td>\n",
       "      <td>f-150</td>\n",
       "      <td>10150</td>\n",
       "      <td>silver</td>\n",
       "      <td>clean</td>\n",
       "      <td>$49,500</td>\n",
       "    </tr>\n",
       "    <tr>\n",
       "      <th>...</th>\n",
       "      <td>...</td>\n",
       "      <td>...</td>\n",
       "      <td>...</td>\n",
       "      <td>...</td>\n",
       "      <td>...</td>\n",
       "      <td>...</td>\n",
       "      <td>...</td>\n",
       "      <td>...</td>\n",
       "    </tr>\n",
       "    <tr>\n",
       "      <th>111</th>\n",
       "      <td>2014 Nissan Titan only 77k miles</td>\n",
       "      <td>2014</td>\n",
       "      <td>nissan</td>\n",
       "      <td>titan</td>\n",
       "      <td>77000</td>\n",
       "      <td>?</td>\n",
       "      <td>clean</td>\n",
       "      <td>$23,500</td>\n",
       "    </tr>\n",
       "    <tr>\n",
       "      <th>112</th>\n",
       "      <td>1999 Chevy Tahoe 4DR 4WD</td>\n",
       "      <td>1999</td>\n",
       "      <td>chevrolet</td>\n",
       "      <td>tahoe</td>\n",
       "      <td>171500</td>\n",
       "      <td>?</td>\n",
       "      <td>clean</td>\n",
       "      <td>$5,900</td>\n",
       "    </tr>\n",
       "    <tr>\n",
       "      <th>113</th>\n",
       "      <td>2019 Colorado ZR2</td>\n",
       "      <td>2019</td>\n",
       "      <td>chevrolet</td>\n",
       "      <td>colorado</td>\n",
       "      <td>30000</td>\n",
       "      <td>grey</td>\n",
       "      <td>clean</td>\n",
       "      <td>$41,000</td>\n",
       "    </tr>\n",
       "    <tr>\n",
       "      <th>114</th>\n",
       "      <td>Mercedes-Benz 2021 E450 Cabriolet</td>\n",
       "      <td>2021</td>\n",
       "      <td>mercedes-benz</td>\n",
       "      <td>e450</td>\n",
       "      <td>7499</td>\n",
       "      <td>silver</td>\n",
       "      <td>clean</td>\n",
       "      <td>$79,499</td>\n",
       "    </tr>\n",
       "    <tr>\n",
       "      <th>115</th>\n",
       "      <td>2013 Range Rover Sport HSE Lux</td>\n",
       "      <td>2013</td>\n",
       "      <td>?</td>\n",
       "      <td>rover</td>\n",
       "      <td>115543</td>\n",
       "      <td>white</td>\n",
       "      <td>clean</td>\n",
       "      <td>$17,950</td>\n",
       "    </tr>\n",
       "  </tbody>\n",
       "</table>\n",
       "<p>116 rows × 8 columns</p>\n",
       "</div>"
      ]
     },
     "metadata": {},
     "execution_count": 4
    }
   ],
   "metadata": {}
  },
  {
   "cell_type": "markdown",
   "source": [
    "Making a dictionary, with the key being the make and value the occurences."
   ],
   "metadata": {}
  },
  {
   "cell_type": "code",
   "execution_count": 5,
   "source": [
    "from collections import Counter\n",
    "def get_make_count(data: DataFrame):\n",
    "    try:\n",
    "        dicc = Counter(data.make)\n",
    "    except:\n",
    "        return {}\n",
    "    return dicc\n",
    "\n",
    "\n",
    "get_make_count(all_data)"
   ],
   "outputs": [
    {
     "output_type": "execute_result",
     "data": {
      "text/plain": [
       "Counter({'ford': 19,\n",
       "         'jeep': 3,\n",
       "         'lexus': 4,\n",
       "         'dodge': 10,\n",
       "         'buick': 1,\n",
       "         'infiniti': 1,\n",
       "         'gm': 4,\n",
       "         '?': 9,\n",
       "         'ram': 2,\n",
       "         'bmw': 4,\n",
       "         'tesla': 4,\n",
       "         'chevrolet': 20,\n",
       "         'honda': 6,\n",
       "         'acura': 2,\n",
       "         'land rover': 3,\n",
       "         'toyota': 6,\n",
       "         'hyundai': 2,\n",
       "         'audi': 2,\n",
       "         'lincoln': 5,\n",
       "         'porsche': 1,\n",
       "         'chrysler': 1,\n",
       "         'nissan': 3,\n",
       "         'mitsubishi': 1,\n",
       "         'pontiac': 1,\n",
       "         'subaru': 1,\n",
       "         'mercedes-benz': 1})"
      ]
     },
     "metadata": {},
     "execution_count": 5
    }
   ],
   "metadata": {}
  },
  {
   "cell_type": "code",
   "execution_count": 6,
   "source": [
    "make_count = get_make_count(all_data)\n",
    "\n",
    "plt.figure(figsize=(30, 5))\n",
    "plt.rcParams.update({'font.size': 8})\n",
    "bar = plt.bar(make_count.keys(), make_count.values()) "
   ],
   "outputs": [
    {
     "output_type": "stream",
     "name": "stdout",
     "text": [
      "dict_keys(['ford', 'jeep', 'lexus', 'dodge', 'buick', 'infiniti', 'gm', '?', 'ram', 'bmw', 'tesla', 'chevrolet', 'honda', 'acura', 'land rover', 'toyota', 'hyundai', 'audi', 'lincoln', 'porsche', 'chrysler', 'nissan', 'mitsubishi', 'pontiac', 'subaru', 'mercedes-benz'])   dict_values([19, 3, 4, 10, 1, 1, 4, 9, 2, 4, 4, 20, 6, 2, 3, 6, 2, 2, 5, 1, 1, 3, 1, 1, 1, 1])\n"
     ]
    },
    {
     "output_type": "display_data",
     "data": {
      "text/plain": [
       "<Figure size 2160x360 with 1 Axes>"
      ],
      "image/png": "[encoded data removed]"
     },
     "metadata": {
      "needs_background": "light"
     }
    }
   ],
   "metadata": {}
  },
  {
   "cell_type": "code",
   "execution_count": null,
   "source": [
    "plt.figure(figsize=(20,20))\n",
    "plt.rcParams.update({'font.size': 30, 'text.color': '#ffffff'})\n",
    "plt.pie(make_count.values(), labels=make_count.keys())"
   ],
   "outputs": [],
   "metadata": {}
  },
  {
   "cell_type": "code",
   "execution_count": 8,
   "source": [
    "#regex stuff\n",
    "import re\n",
    "string = \" Toyota2015 Corolla S\"\n",
    "d = re.findall('(\\d{4})', string)\n",
    "print(d)\n",
    "a = re.match('(\\d{4})', string)\n",
    "print(a)"
   ],
   "outputs": [
    {
     "output_type": "stream",
     "name": "stdout",
     "text": [
      "['2015']\n",
      "None\n"
     ]
    }
   ],
   "metadata": {}
  },
  {
   "cell_type": "markdown",
   "source": [
    "# Average Price by Make "
   ],
   "metadata": {}
  },
  {
   "cell_type": "code",
   "execution_count": 18,
   "source": [
    "from importlib import reload\n",
    "plt=reload(plt)\n",
    "\n",
    "total_price = {}\n",
    "for row in all_data.iloc:\n",
    "    curr_price = int(row['price'].replace('$', '').replace(',', ''))\n",
    "    if row['make'] not in total_price:\n",
    "        total_price[row['make']] = curr_price\n",
    "    else:\n",
    "        total_price[row['make']] += curr_price\n",
    "\n",
    "avg_price = {}\n",
    "for (k,v), (k2,v2) in zip(total_price.items(), make_count.items()):\n",
    "    avg_price[k] = round(v / v2, 2)\n",
    "\n",
    "plt.figure(figsize=(35, 6))\n",
    "plt.rcParams.update({'font.size': 12})\n",
    "plt.xlabel('Manufacturer')\n",
    "plt.ylabel('Average Price ($)')\n",
    "\n",
    "plt.bar(avg_price.keys(), avg_price.values())"
   ],
   "outputs": [
    {
     "output_type": "execute_result",
     "data": {
      "text/plain": [
       "<BarContainer object of 26 artists>"
      ]
     },
     "metadata": {},
     "execution_count": 18
    },
    {
     "output_type": "display_data",
     "data": {
      "text/plain": [
       "<Figure size 2520x432 with 1 Axes>"
      ],
      "image/png": "[encoded data removed]"
     },
     "metadata": {
      "needs_background": "light"
     }
    }
   ],
   "metadata": {}
  },
  {
   "cell_type": "code",
   "execution_count": null,
   "source": [],
   "outputs": [],
   "metadata": {}
  },
  {
   "cell_type": "code",
   "execution_count": null,
   "source": [],
   "outputs": [],
   "metadata": {}
  },
  {
   "cell_type": "code",
   "execution_count": null,
   "source": [],
   "outputs": [],
   "metadata": {}
  },
  {
   "cell_type": "code",
   "execution_count": null,
   "source": [],
   "outputs": [],
   "metadata": {}
  },
  {
   "cell_type": "code",
   "execution_count": null,
   "source": [],
   "outputs": [],
   "metadata": {}
  }
 ],
 "metadata": {
  "orig_nbformat": 4,
  "language_info": {
   "name": "python",
   "version": "3.8.5",
   "mimetype": "text/x-python",
   "codemirror_mode": {
    "name": "ipython",
    "version": 3
   },
   "pygments_lexer": "ipython3",
   "nbconvert_exporter": "python",
   "file_extension": ".py"
  },
  "kernelspec": {
   "name": "python3",
   "display_name": "Python 3.8.5 64-bit ('env': venv)"
  },
  "interpreter": {
   "hash": "454c942eb6a416fc21d1f41272c4b8c88ba924926388f6f769a80edfd83173d3"
  }
 },
 "nbformat": 4,
 "nbformat_minor": 2
}